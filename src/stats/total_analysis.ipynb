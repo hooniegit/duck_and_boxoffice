{
 "cells": [
  {
   "cell_type": "markdown",
   "metadata": {},
   "source": [
    "### 데이터 불러오기"
   ]
  },
  {
   "cell_type": "code",
   "execution_count": 6,
   "metadata": {},
   "outputs": [],
   "source": [
    "import duckdb\n",
    "\n",
    "# DuckDB에 연결\n",
    "# 절대 경로 지정 필요 (이유 불문)\n",
    "conn = duckdb.connect(database='/home/hooniegit/git/personal/duck_and_boxoffice/database/memory', read_only=False)  \n",
    "cursor = conn.cursor()"
   ]
  },
  {
   "cell_type": "code",
   "execution_count": 12,
   "metadata": {},
   "outputs": [],
   "source": [
    "# 쿼리 실행\n",
    "# 컬럼 확인하기\n",
    "cursor.execute(\"\"\"\n",
    "               SELECT column_name\n",
    "               FROM information_schema.columns\n",
    "               WHERE table_name = 'box_seoul';\n",
    "               \"\"\")\n",
    "\n",
    "# 결과 가져오기\n",
    "results = cursor.fetchall()\n",
    "columns = [result[0] for result in results]"
   ]
  },
  {
   "cell_type": "code",
   "execution_count": 7,
   "metadata": {},
   "outputs": [],
   "source": [
    "# 쿼리 실행\n",
    "# 서울 2018~2023 테이블\n",
    "# 주말 데이터 가져오기\n",
    "cursor.execute(\"\"\"\n",
    "               SELECT *\n",
    "               FROM box_seoul\n",
    "               WHERE EXTRACT(DOW FROM CAST(SUBSTRING(date FROM 1 FOR 4) || '-' || SUBSTRING(date FROM 6 FOR 2) || '-' || SUBSTRING(date FROM 9 FOR 2) AS DATE)) IN (6, 0);\n",
    "               \"\"\")\n",
    "\n",
    "# 결과 가져오기\n",
    "result_weekend = cursor.fetchall()"
   ]
  },
  {
   "cell_type": "code",
   "execution_count": 8,
   "metadata": {},
   "outputs": [],
   "source": [
    "# 쿼리 실행\n",
    "# 서울 2018~2023 테이블\n",
    "# 주중 데이터 가져오기\n",
    "cursor.execute(\"\"\"\n",
    "               SELECT *\n",
    "               FROM box_seoul\n",
    "               WHERE EXTRACT(DOW FROM CAST(SUBSTRING(date FROM 1 FOR 4) || '-' || SUBSTRING(date FROM 6 FOR 2) || '-' || SUBSTRING(date FROM 9 FOR 2) AS DATE)) NOT IN (6, 0);\n",
    "               \"\"\")\n",
    "\n",
    "# 결과 가져오기\n",
    "result_weekday = cursor.fetchall()"
   ]
  },
  {
   "cell_type": "code",
   "execution_count": 24,
   "metadata": {},
   "outputs": [],
   "source": [
    "# 커넥터 종료\n",
    "conn.close()"
   ]
  },
  {
   "cell_type": "markdown",
   "metadata": {},
   "source": [
    "### 데이터 분석하기"
   ]
  },
  {
   "cell_type": "code",
   "execution_count": 16,
   "metadata": {},
   "outputs": [],
   "source": [
    "import pandas as pd\n",
    "\n",
    "# 데이터프레임 생성\n",
    "df_weekday = pd.DataFrame(columns=columns, data=result_weekday)\n",
    "df_weekend = pd.DataFrame(columns=columns, data=result_weekend)"
   ]
  },
  {
   "cell_type": "code",
   "execution_count": 18,
   "metadata": {},
   "outputs": [
    {
     "data": {
      "text/html": [
       "<div>\n",
       "<style scoped>\n",
       "    .dataframe tbody tr th:only-of-type {\n",
       "        vertical-align: middle;\n",
       "    }\n",
       "\n",
       "    .dataframe tbody tr th {\n",
       "        vertical-align: top;\n",
       "    }\n",
       "\n",
       "    .dataframe thead th {\n",
       "        text-align: right;\n",
       "    }\n",
       "</style>\n",
       "<table border=\"1\" class=\"dataframe\">\n",
       "  <thead>\n",
       "    <tr style=\"text-align: right;\">\n",
       "      <th></th>\n",
       "      <th>date</th>\n",
       "      <th>rank</th>\n",
       "      <th>movie_nm</th>\n",
       "      <th>movie_open</th>\n",
       "      <th>sales_amount</th>\n",
       "      <th>sales_share</th>\n",
       "      <th>sales_inten</th>\n",
       "      <th>sales_change</th>\n",
       "      <th>sales_acc</th>\n",
       "      <th>audi_cnt</th>\n",
       "      <th>audi_inten</th>\n",
       "      <th>audi_change</th>\n",
       "      <th>audi_acc</th>\n",
       "      <th>scrn_cnt</th>\n",
       "      <th>show_cnt</th>\n",
       "      <th>loc_code</th>\n",
       "    </tr>\n",
       "  </thead>\n",
       "  <tbody>\n",
       "    <tr>\n",
       "      <th>0</th>\n",
       "      <td>2018-02-15</td>\n",
       "      <td>1</td>\n",
       "      <td>블랙 팬서</td>\n",
       "      <td>2018-02-14</td>\n",
       "      <td>1451937500</td>\n",
       "      <td>58.1</td>\n",
       "      <td>14033300</td>\n",
       "      <td>1</td>\n",
       "      <td>2904675700</td>\n",
       "      <td>154900</td>\n",
       "      <td>-17481.0</td>\n",
       "      <td>-10.1</td>\n",
       "      <td>328792</td>\n",
       "      <td>314</td>\n",
       "      <td>1636</td>\n",
       "      <td>0105001</td>\n",
       "    </tr>\n",
       "    <tr>\n",
       "      <th>1</th>\n",
       "      <td>2018-02-15</td>\n",
       "      <td>2</td>\n",
       "      <td>골든슬럼버</td>\n",
       "      <td>2018-02-14</td>\n",
       "      <td>360629000</td>\n",
       "      <td>14.4</td>\n",
       "      <td>49190900</td>\n",
       "      <td>16</td>\n",
       "      <td>727944300</td>\n",
       "      <td>41625</td>\n",
       "      <td>1774.0</td>\n",
       "      <td>4.5</td>\n",
       "      <td>87057</td>\n",
       "      <td>162</td>\n",
       "      <td>704</td>\n",
       "      <td>0105001</td>\n",
       "    </tr>\n",
       "    <tr>\n",
       "      <th>2</th>\n",
       "      <td>2018-02-15</td>\n",
       "      <td>3</td>\n",
       "      <td>조선명탐정: 흡혈괴마의 비밀</td>\n",
       "      <td>2018-02-08</td>\n",
       "      <td>251797300</td>\n",
       "      <td>10.1</td>\n",
       "      <td>137464700</td>\n",
       "      <td>120</td>\n",
       "      <td>2456907445</td>\n",
       "      <td>29266</td>\n",
       "      <td>14485.0</td>\n",
       "      <td>98</td>\n",
       "      <td>297182</td>\n",
       "      <td>137</td>\n",
       "      <td>454</td>\n",
       "      <td>0105001</td>\n",
       "    </tr>\n",
       "    <tr>\n",
       "      <th>3</th>\n",
       "      <td>2018-02-15</td>\n",
       "      <td>4</td>\n",
       "      <td>흥부: 글로 세상을 바꾼 자</td>\n",
       "      <td>2018-02-14</td>\n",
       "      <td>146467800</td>\n",
       "      <td>5.9</td>\n",
       "      <td>51045700</td>\n",
       "      <td>54</td>\n",
       "      <td>273207900</td>\n",
       "      <td>16693</td>\n",
       "      <td>4456.0</td>\n",
       "      <td>36.4</td>\n",
       "      <td>32780</td>\n",
       "      <td>114</td>\n",
       "      <td>403</td>\n",
       "      <td>0105001</td>\n",
       "    </tr>\n",
       "    <tr>\n",
       "      <th>4</th>\n",
       "      <td>2018-02-15</td>\n",
       "      <td>5</td>\n",
       "      <td>코코</td>\n",
       "      <td>2018-01-11</td>\n",
       "      <td>61988400</td>\n",
       "      <td>2.5</td>\n",
       "      <td>32011200</td>\n",
       "      <td>107</td>\n",
       "      <td>8204294016</td>\n",
       "      <td>7207</td>\n",
       "      <td>3351.0</td>\n",
       "      <td>86.9</td>\n",
       "      <td>981295</td>\n",
       "      <td>83</td>\n",
       "      <td>127</td>\n",
       "      <td>0105001</td>\n",
       "    </tr>\n",
       "  </tbody>\n",
       "</table>\n",
       "</div>"
      ],
      "text/plain": [
       "         date rank         movie_nm  movie_open  sales_amount  sales_share  \\\n",
       "0  2018-02-15    1            블랙 팬서  2018-02-14    1451937500         58.1   \n",
       "1  2018-02-15    2            골든슬럼버  2018-02-14     360629000         14.4   \n",
       "2  2018-02-15    3  조선명탐정: 흡혈괴마의 비밀  2018-02-08     251797300         10.1   \n",
       "3  2018-02-15    4  흥부: 글로 세상을 바꾼 자  2018-02-14     146467800          5.9   \n",
       "4  2018-02-15    5               코코  2018-01-11      61988400          2.5   \n",
       "\n",
       "   sales_inten  sales_change   sales_acc  audi_cnt  audi_inten audi_change  \\\n",
       "0     14033300             1  2904675700    154900    -17481.0       -10.1   \n",
       "1     49190900            16   727944300     41625      1774.0         4.5   \n",
       "2    137464700           120  2456907445     29266     14485.0          98   \n",
       "3     51045700            54   273207900     16693      4456.0        36.4   \n",
       "4     32011200           107  8204294016      7207      3351.0        86.9   \n",
       "\n",
       "   audi_acc  scrn_cnt  show_cnt loc_code  \n",
       "0    328792       314      1636  0105001  \n",
       "1     87057       162       704  0105001  \n",
       "2    297182       137       454  0105001  \n",
       "3     32780       114       403  0105001  \n",
       "4    981295        83       127  0105001  "
      ]
     },
     "execution_count": 18,
     "metadata": {},
     "output_type": "execute_result"
    }
   ],
   "source": [
    "df_weekday.head()"
   ]
  },
  {
   "cell_type": "code",
   "execution_count": 32,
   "metadata": {},
   "outputs": [],
   "source": [
    "# 서울 5년 통산 평일 / 주말 영화 관람객수\n",
    "audi_weekday_total = (df_weekday['audi_cnt'].sum())\n",
    "audi_weekend_total = (df_weekend['audi_cnt'].sum())\n",
    "\n",
    "# 서울 5년 통산 평일 / 주말 영화 관람객수 - 요일 평균\n",
    "weekday_cnt = df_weekday['date'].count()\n",
    "weekend_cnt = df_weekend['date'].count()\n",
    "\n",
    "audi_weekday_avg = f\"{(df_weekday['audi_cnt'].sum()) / weekday_cnt:.1f}\"\n",
    "audi_weekend_avg = f\"{(df_weekend['audi_cnt'].sum()) / weekend_cnt:.1f}\""
   ]
  },
  {
   "cell_type": "code",
   "execution_count": 33,
   "metadata": {},
   "outputs": [
    {
     "name": "stdout",
     "output_type": "stream",
     "text": [
      "102012486 81892412\n",
      "7089.1 14291.9\n"
     ]
    }
   ],
   "source": [
    "print(audi_weekday_total, audi_weekend_total)\n",
    "print(audi_weekday_avg, audi_weekend_avg)"
   ]
  }
 ],
 "metadata": {
  "kernelspec": {
   "display_name": "Python 3",
   "language": "python",
   "name": "python3"
  },
  "language_info": {
   "codemirror_mode": {
    "name": "ipython",
    "version": 3
   },
   "file_extension": ".py",
   "mimetype": "text/x-python",
   "name": "python",
   "nbconvert_exporter": "python",
   "pygments_lexer": "ipython3",
   "version": "3.10.12"
  },
  "orig_nbformat": 4
 },
 "nbformat": 4,
 "nbformat_minor": 2
}
