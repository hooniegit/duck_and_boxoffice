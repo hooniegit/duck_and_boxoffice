{
 "cells": [
  {
   "cell_type": "markdown",
   "metadata": {},
   "source": [
    "### 데이터 불러오기"
   ]
  },
  {
   "cell_type": "code",
   "execution_count": 21,
   "metadata": {},
   "outputs": [],
   "source": [
    "import duckdb\n",
    "\n",
    "# DuckDB에 연결\n",
    "# 절대 경로 지정 필요 (이유 불문)\n",
    "conn = duckdb.connect(database='/home/hooniegit/git/personal/duck_and_boxoffice/database/memory', read_only=False)  \n",
    "cursor = conn.cursor()"
   ]
  },
  {
   "cell_type": "code",
   "execution_count": 2,
   "metadata": {},
   "outputs": [],
   "source": [
    "# 쿼리 실행\n",
    "# 컬럼 확인하기\n",
    "cursor.execute(\"\"\"\n",
    "               SELECT column_name\n",
    "               FROM information_schema.columns\n",
    "               WHERE table_name = 'box_whole';\n",
    "               \"\"\")\n",
    "\n",
    "# 결과 가져오기\n",
    "results = cursor.fetchall()\n",
    "columns = [result[0] for result in results]"
   ]
  },
  {
   "cell_type": "code",
   "execution_count": 3,
   "metadata": {},
   "outputs": [],
   "source": [
    "# 쿼리 실행\n",
    "# 전체 박스오피스 테이블\n",
    "# 2018년 데이터 가져오기\n",
    "cursor.execute(\"\"\"\n",
    "               SELECT *\n",
    "               FROM box_whole\n",
    "               WHERE EXTRACT(YEAR FROM CAST(SUBSTRING(date FROM 1 FOR 4) || '-' || SUBSTRING(date FROM 6 FOR 2) || '-' || SUBSTRING(date FROM 9 FOR 2) AS DATE)) = 2018;\n",
    "               \"\"\")\n",
    "\n",
    "# 결과 가져오기\n",
    "result_2018 = cursor.fetchall()"
   ]
  },
  {
   "cell_type": "code",
   "execution_count": 4,
   "metadata": {},
   "outputs": [],
   "source": [
    "# 쿼리 실행\n",
    "# 전체 박스오피스 테이블\n",
    "# 2019년 데이터 가져오기\n",
    "cursor.execute(\"\"\"\n",
    "               SELECT *\n",
    "               FROM box_whole\n",
    "               WHERE EXTRACT(YEAR FROM CAST(SUBSTRING(date FROM 1 FOR 4) || '-' || SUBSTRING(date FROM 6 FOR 2) || '-' || SUBSTRING(date FROM 9 FOR 2) AS DATE)) = 2019;\n",
    "               \"\"\")\n",
    "\n",
    "# 결과 가져오기\n",
    "result_2019 = cursor.fetchall()"
   ]
  },
  {
   "cell_type": "code",
   "execution_count": 5,
   "metadata": {},
   "outputs": [],
   "source": [
    "# 쿼리 실행\n",
    "# 전체 박스오피스 테이블\n",
    "# 2020년 데이터 가져오기\n",
    "cursor.execute(\"\"\"\n",
    "               SELECT *\n",
    "               FROM box_whole\n",
    "               WHERE EXTRACT(YEAR FROM CAST(SUBSTRING(date FROM 1 FOR 4) || '-' || SUBSTRING(date FROM 6 FOR 2) || '-' || SUBSTRING(date FROM 9 FOR 2) AS DATE)) = 2020;\n",
    "               \"\"\")\n",
    "\n",
    "# 결과 가져오기\n",
    "result_2020 = cursor.fetchall()"
   ]
  },
  {
   "cell_type": "code",
   "execution_count": 6,
   "metadata": {},
   "outputs": [],
   "source": [
    "# 쿼리 실행\n",
    "# 전체 박스오피스 테이블\n",
    "# 2021년 데이터 가져오기\n",
    "cursor.execute(\"\"\"\n",
    "               SELECT *\n",
    "               FROM box_whole\n",
    "               WHERE EXTRACT(YEAR FROM CAST(SUBSTRING(date FROM 1 FOR 4) || '-' || SUBSTRING(date FROM 6 FOR 2) || '-' || SUBSTRING(date FROM 9 FOR 2) AS DATE)) = 2021;\n",
    "               \"\"\")\n",
    "\n",
    "# 결과 가져오기\n",
    "result_2021 = cursor.fetchall()"
   ]
  },
  {
   "cell_type": "code",
   "execution_count": 7,
   "metadata": {},
   "outputs": [],
   "source": [
    "# 쿼리 실행\n",
    "# 전체 박스오피스 테이블\n",
    "# 2022년 데이터 가져오기\n",
    "cursor.execute(\"\"\"\n",
    "               SELECT *\n",
    "               FROM box_whole\n",
    "               WHERE EXTRACT(YEAR FROM CAST(SUBSTRING(date FROM 1 FOR 4) || '-' || SUBSTRING(date FROM 6 FOR 2) || '-' || SUBSTRING(date FROM 9 FOR 2) AS DATE)) = 2022;\n",
    "               \"\"\")\n",
    "\n",
    "# 결과 가져오기\n",
    "result_2022 = cursor.fetchall()"
   ]
  },
  {
   "cell_type": "code",
   "execution_count": 22,
   "metadata": {},
   "outputs": [],
   "source": [
    "# 쿼리 실행\n",
    "# 전체 박스오피스 테이블\n",
    "# 2023년 데이터 가져오기\n",
    "cursor.execute(\"\"\"\n",
    "               SELECT *\n",
    "               FROM box_whole\n",
    "               WHERE EXTRACT(YEAR FROM CAST(SUBSTRING(date FROM 1 FOR 4) || '-' || SUBSTRING(date FROM 6 FOR 2) || '-' || SUBSTRING(date FROM 9 FOR 2) AS DATE)) = 2023;\n",
    "               \"\"\")\n",
    "\n",
    "# 결과 가져오기\n",
    "result_2023 = cursor.fetchall()"
   ]
  },
  {
   "cell_type": "code",
   "execution_count": 23,
   "metadata": {},
   "outputs": [],
   "source": [
    "conn.close()"
   ]
  },
  {
   "cell_type": "markdown",
   "metadata": {},
   "source": [
    "### 데이터 분석하기"
   ]
  },
  {
   "cell_type": "code",
   "execution_count": 25,
   "metadata": {},
   "outputs": [],
   "source": [
    "import pandas as pd\n",
    "\n",
    "# 데이터프레임 생성\n",
    "df_2018 = pd.DataFrame(columns=columns, data=result_2018)\n",
    "df_2019 = pd.DataFrame(columns=columns, data=result_2019)\n",
    "df_2020 = pd.DataFrame(columns=columns, data=result_2020)\n",
    "df_2021 = pd.DataFrame(columns=columns, data=result_2021)\n",
    "df_2022 = pd.DataFrame(columns=columns, data=result_2022)\n",
    "df_2023 = pd.DataFrame(columns=columns, data=result_2023)"
   ]
  },
  {
   "cell_type": "code",
   "execution_count": 10,
   "metadata": {},
   "outputs": [
    {
     "data": {
      "text/html": [
       "<div>\n",
       "<style scoped>\n",
       "    .dataframe tbody tr th:only-of-type {\n",
       "        vertical-align: middle;\n",
       "    }\n",
       "\n",
       "    .dataframe tbody tr th {\n",
       "        vertical-align: top;\n",
       "    }\n",
       "\n",
       "    .dataframe thead th {\n",
       "        text-align: right;\n",
       "    }\n",
       "</style>\n",
       "<table border=\"1\" class=\"dataframe\">\n",
       "  <thead>\n",
       "    <tr style=\"text-align: right;\">\n",
       "      <th></th>\n",
       "      <th>date</th>\n",
       "      <th>rank</th>\n",
       "      <th>movie_nm</th>\n",
       "      <th>movie_open</th>\n",
       "      <th>sales_amount</th>\n",
       "      <th>sales_share</th>\n",
       "      <th>sales_inten</th>\n",
       "      <th>sales_change</th>\n",
       "      <th>sales_acc</th>\n",
       "      <th>audi_cnt</th>\n",
       "      <th>audi_inten</th>\n",
       "      <th>audi_change</th>\n",
       "      <th>audi_acc</th>\n",
       "      <th>scrn_cnt</th>\n",
       "      <th>show_cnt</th>\n",
       "      <th>loc_code</th>\n",
       "    </tr>\n",
       "  </thead>\n",
       "  <tbody>\n",
       "    <tr>\n",
       "      <th>0</th>\n",
       "      <td>2018-02-03</td>\n",
       "      <td>1</td>\n",
       "      <td>염력</td>\n",
       "      <td>2018-01-31</td>\n",
       "      <td>442642180</td>\n",
       "      <td>23.1</td>\n",
       "      <td>223499703</td>\n",
       "      <td>102</td>\n",
       "      <td>1296365957</td>\n",
       "      <td>50445</td>\n",
       "      <td>25031.0</td>\n",
       "      <td>98.5</td>\n",
       "      <td>171404</td>\n",
       "      <td>189</td>\n",
       "      <td>1063</td>\n",
       "      <td>0105001</td>\n",
       "    </tr>\n",
       "    <tr>\n",
       "      <th>1</th>\n",
       "      <td>2018-02-03</td>\n",
       "      <td>2</td>\n",
       "      <td>그것만이 내 세상</td>\n",
       "      <td>2018-01-17</td>\n",
       "      <td>375180348</td>\n",
       "      <td>19.6</td>\n",
       "      <td>218522011</td>\n",
       "      <td>140</td>\n",
       "      <td>4734474037</td>\n",
       "      <td>43457</td>\n",
       "      <td>25182.0</td>\n",
       "      <td>137.8</td>\n",
       "      <td>573401</td>\n",
       "      <td>162</td>\n",
       "      <td>597</td>\n",
       "      <td>0105001</td>\n",
       "    </tr>\n",
       "    <tr>\n",
       "      <th>2</th>\n",
       "      <td>2018-02-03</td>\n",
       "      <td>3</td>\n",
       "      <td>코코</td>\n",
       "      <td>2018-01-11</td>\n",
       "      <td>328740300</td>\n",
       "      <td>17.2</td>\n",
       "      <td>211582400</td>\n",
       "      <td>181</td>\n",
       "      <td>7028268316</td>\n",
       "      <td>38244</td>\n",
       "      <td>24627.0</td>\n",
       "      <td>180.9</td>\n",
       "      <td>841033</td>\n",
       "      <td>165</td>\n",
       "      <td>505</td>\n",
       "      <td>0105001</td>\n",
       "    </tr>\n",
       "    <tr>\n",
       "      <th>3</th>\n",
       "      <td>2018-02-03</td>\n",
       "      <td>4</td>\n",
       "      <td>인시디어스4: 라스트 키</td>\n",
       "      <td>2018-01-31</td>\n",
       "      <td>171102984</td>\n",
       "      <td>8.9</td>\n",
       "      <td>66792204</td>\n",
       "      <td>64</td>\n",
       "      <td>492840064</td>\n",
       "      <td>19661</td>\n",
       "      <td>7694.0</td>\n",
       "      <td>64.3</td>\n",
       "      <td>63903</td>\n",
       "      <td>142</td>\n",
       "      <td>442</td>\n",
       "      <td>0105001</td>\n",
       "    </tr>\n",
       "    <tr>\n",
       "      <th>4</th>\n",
       "      <td>2018-02-03</td>\n",
       "      <td>5</td>\n",
       "      <td>신과함께-죄와 벌</td>\n",
       "      <td>2017-12-20</td>\n",
       "      <td>110671900</td>\n",
       "      <td>5.8</td>\n",
       "      <td>59224400</td>\n",
       "      <td>115</td>\n",
       "      <td>26964675887</td>\n",
       "      <td>12806</td>\n",
       "      <td>6758.0</td>\n",
       "      <td>111.7</td>\n",
       "      <td>3277556</td>\n",
       "      <td>100</td>\n",
       "      <td>214</td>\n",
       "      <td>0105001</td>\n",
       "    </tr>\n",
       "  </tbody>\n",
       "</table>\n",
       "</div>"
      ],
      "text/plain": [
       "         date rank       movie_nm  movie_open  sales_amount  sales_share  \\\n",
       "0  2018-02-03    1             염력  2018-01-31     442642180         23.1   \n",
       "1  2018-02-03    2      그것만이 내 세상  2018-01-17     375180348         19.6   \n",
       "2  2018-02-03    3             코코  2018-01-11     328740300         17.2   \n",
       "3  2018-02-03    4  인시디어스4: 라스트 키  2018-01-31     171102984          8.9   \n",
       "4  2018-02-03    5      신과함께-죄와 벌  2017-12-20     110671900          5.8   \n",
       "\n",
       "   sales_inten  sales_change    sales_acc  audi_cnt  audi_inten audi_change  \\\n",
       "0    223499703           102   1296365957     50445     25031.0        98.5   \n",
       "1    218522011           140   4734474037     43457     25182.0       137.8   \n",
       "2    211582400           181   7028268316     38244     24627.0       180.9   \n",
       "3     66792204            64    492840064     19661      7694.0        64.3   \n",
       "4     59224400           115  26964675887     12806      6758.0       111.7   \n",
       "\n",
       "   audi_acc  scrn_cnt  show_cnt loc_code  \n",
       "0    171404       189      1063  0105001  \n",
       "1    573401       162       597  0105001  \n",
       "2    841033       165       505  0105001  \n",
       "3     63903       142       442  0105001  \n",
       "4   3277556       100       214  0105001  "
      ]
     },
     "execution_count": 10,
     "metadata": {},
     "output_type": "execute_result"
    }
   ],
   "source": [
    "df_2018.head()"
   ]
  },
  {
   "cell_type": "code",
   "execution_count": 26,
   "metadata": {},
   "outputs": [],
   "source": [
    "# 연간 통산 관람객 수\n",
    "audi_total_2018 = df_2018['audi_cnt'].sum()\n",
    "audi_total_2019 = df_2019['audi_cnt'].sum()\n",
    "audi_total_2020 = df_2020['audi_cnt'].sum()\n",
    "audi_total_2021 = df_2021['audi_cnt'].sum()\n",
    "audi_total_2022 = df_2022['audi_cnt'].sum()\n",
    "\n",
    "# 연간 일평균 관람객 수\n",
    "audi_avg_2018 = f\"{df_2018['audi_cnt'].mean():.1f}\"\n",
    "audi_avg_2019 = f\"{df_2019['audi_cnt'].mean():.1f}\"\n",
    "audi_avg_2020 = f\"{df_2020['audi_cnt'].mean():.1f}\"\n",
    "audi_avg_2021 = f\"{df_2021['audi_cnt'].mean():.1f}\"\n",
    "audi_avg_2022 = f\"{df_2022['audi_cnt'].mean():.1f}\"\n",
    "audi_avg_2023 = f\"{df_2023['audi_cnt'].mean():.1f}\"\n"
   ]
  },
  {
   "cell_type": "code",
   "execution_count": 27,
   "metadata": {},
   "outputs": [
    {
     "name": "stdout",
     "output_type": "stream",
     "text": [
      "198968284\n",
      "213290028\n",
      "53677069\n",
      "56016923\n",
      "105108356\n",
      "3610.4\n",
      "3689.8\n",
      "954.7\n",
      "966.4\n",
      "1845.2\n",
      "2111.8\n"
     ]
    }
   ],
   "source": [
    "print(audi_total_2018)\n",
    "print(audi_total_2019)\n",
    "print(audi_total_2020)\n",
    "print(audi_total_2021)\n",
    "print(audi_total_2022)\n",
    "\n",
    "print(audi_avg_2018)\n",
    "print(audi_avg_2019)\n",
    "print(audi_avg_2020)\n",
    "print(audi_avg_2021)\n",
    "print(audi_avg_2022)\n",
    "print(audi_avg_2023)"
   ]
  },
  {
   "cell_type": "code",
   "execution_count": 33,
   "metadata": {},
   "outputs": [],
   "source": [
    "# 도시별 연간 통산 관람객 수\n",
    "audi_total_2018_01 = df_2018[df_2018['loc_code']=='0105001']['audi_cnt'].sum()\n",
    "audi_total_2018_02 = df_2018[df_2018['loc_code']=='0105002']['audi_cnt'].sum()\n",
    "audi_total_2018_03 = df_2018[df_2018['loc_code']=='0105003']['audi_cnt'].sum()\n",
    "audi_total_2018_04 = df_2018[df_2018['loc_code']=='0105004']['audi_cnt'].sum()\n",
    "audi_total_2018_05 = df_2018[df_2018['loc_code']=='0105005']['audi_cnt'].sum()\n",
    "audi_total_2018_06 = df_2018[df_2018['loc_code']=='0105006']['audi_cnt'].sum()\n",
    "audi_total_2018_07 = df_2018[df_2018['loc_code']=='0105007']['audi_cnt'].sum()\n",
    "audi_total_2018_08 = df_2018[df_2018['loc_code']=='0105008']['audi_cnt'].sum()\n",
    "audi_total_2018_09 = df_2018[df_2018['loc_code']=='0105009']['audi_cnt'].sum()\n",
    "audi_total_2018_10 = df_2018[df_2018['loc_code']=='0105010']['audi_cnt'].sum()\n",
    "audi_total_2018_11 = df_2018[df_2018['loc_code']=='0105011']['audi_cnt'].sum()\n",
    "audi_total_2018_12 = df_2018[df_2018['loc_code']=='0105012']['audi_cnt'].sum()\n",
    "audi_total_2018_13 = df_2018[df_2018['loc_code']=='0105013']['audi_cnt'].sum()\n",
    "audi_total_2018_14 = df_2018[df_2018['loc_code']=='0105014']['audi_cnt'].sum()\n",
    "audi_total_2018_15 = df_2018[df_2018['loc_code']=='0105015']['audi_cnt'].sum()\n",
    "audi_total_2018_16 = df_2018[df_2018['loc_code']=='0105016']['audi_cnt'].sum()\n",
    "audi_total_2018_17 = df_2018[df_2018['loc_code']=='0105017']['audi_cnt'].sum()"
   ]
  },
  {
   "cell_type": "code",
   "execution_count": 34,
   "metadata": {},
   "outputs": [
    {
     "name": "stdout",
     "output_type": "stream",
     "text": [
      "53238196\n",
      "1019982\n"
     ]
    }
   ],
   "source": [
    "print(audi_total_2018_01)\n",
    "print(audi_total_2018_17)"
   ]
  }
 ],
 "metadata": {
  "kernelspec": {
   "display_name": "Python 3",
   "language": "python",
   "name": "python3"
  },
  "language_info": {
   "codemirror_mode": {
    "name": "ipython",
    "version": 3
   },
   "file_extension": ".py",
   "mimetype": "text/x-python",
   "name": "python",
   "nbconvert_exporter": "python",
   "pygments_lexer": "ipython3",
   "version": "3.10.12"
  },
  "orig_nbformat": 4
 },
 "nbformat": 4,
 "nbformat_minor": 2
}
